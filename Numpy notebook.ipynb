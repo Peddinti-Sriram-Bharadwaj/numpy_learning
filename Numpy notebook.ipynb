{
 "cells": [
  {
   "cell_type": "markdown",
   "id": "cd0ced2c-8361-49b2-8bea-8d5b91650bba",
   "metadata": {},
   "source": [
    "# Numpy"
   ]
  },
  {
   "cell_type": "markdown",
   "id": "9effa68a-058d-4a33-9a4a-52b16aaa706a",
   "metadata": {},
   "source": [
    "It is the fundamental package for sicentific computing with pythong. \n",
    "\n",
    "it offers:- \n",
    "\n",
    "- Powerful N-dimensinoal arrays\n",
    "- It offers numerical computing tools.\n",
    "- It is open source under BSD license.\n",
    "- It is interoperable with a variety of hardware and computing systens.\n",
    "- It is performant with it swell optimized C code. bring sthge fliexibility of python and the speed of C.\n",
    "- it is easy to use because of its high level syntax, making it accessible with minimal learning curve. "
   ]
  },
  {
   "cell_type": "markdown",
   "id": "3b52d3c8-533e-4187-8788-66380d5f4c5d",
   "metadata": {},
   "source": [
    "## numpy ecosystem"
   ]
  },
  {
   "cell_type": "markdown",
   "id": "28818ec0-5bc3-435d-9b60-5c36810372d1",
   "metadata": {},
   "source": [
    "- Scientific domains\n",
    "  - Quantum computing\n",
    "  - Statistical computing\n",
    "  - signal processing\n",
    "  - image processing\n",
    "  - graphs and networks\n",
    "  - astronomy\n",
    "  - cognitive psychology\n",
    "  - bioinformatics\n",
    "  - bayesian inference\n",
    "  - mathematical analysis\n",
    "  - chemistru\n",
    "  - geoscience\n",
    "  - geographic processing\n",
    "  - architecture & engineering\n",
    "- Array Libraries\n",
    "  - Dask\n",
    "  - CuPy\n",
    "  - JAX\n",
    "  - Xarray\n",
    "  - sparse\n",
    "  - pytorch\n",
    "  - tensorflow\n",
    "  - arrow\n",
    "  - xtensor\n",
    "  - awkward array\n",
    "  - uarray\n",
    "  - tensorly\n",
    "- Data Science\n",
    "  - ETL\n",
    "  - exploratory analysus\n",
    "  - model and evaluate\n",
    "  - reprot in a dashboard\n",
    "- Machine Learning\n",
    "  - Scikit-learn\n",
    "  - SciPy\n",
    "  - Tensorflow\n",
    "  - PyTorch\n",
    "  - XGBoost\n",
    "  - LightGBM\n",
    "  - CatBoost\n",
    "  - Yellowbrick\n",
    "  - Eli5\n",
    "- Visualization\n",
    "  - matplotlib\n",
    "  - seabor\n",
    "  - plotly\n",
    "  - altari\n",
    "  - bokeh\n",
    "  - holoviz\n",
    "  - vispy\n",
    "  - napari\n",
    "  - pyvista"
   ]
  },
  {
   "cell_type": "markdown",
   "id": "6326d592-0e7c-4243-82c3-1211318b0e5c",
   "metadata": {},
   "source": [
    "for more info:- https://numpy.org (scroll down)"
   ]
  },
  {
   "cell_type": "markdown",
   "id": "bbb1e154-5a0d-4a22-b58c-bba255621b7b",
   "metadata": {},
   "source": [
    "## Absolute basics"
   ]
  },
  {
   "cell_type": "markdown",
   "id": "e81b5b8c-dec8-4e6c-acab-f6d864db3b03",
   "metadata": {},
   "source": [
    "NumPy stands for Numerical Python. It is an open source python library that is widely used in science and engineering.\n",
    "\n",
    "it contains multidimensional array data structures, such as the homogenous N-deimensional ndarray and a large library of functions that operate efficiently on these data structures. \n",
    "\n",
    "While python lists are good general purpose homogenouys containers, but for data with certain cahracteristics , it may not be the most appropriate. \n",
    "\n",
    "for some operationsf and datay, other containers maybe more appropriate. by exploiting these, we can improve spee,d reduce memory consumption and offer a high-level syntax for pefroming a variety of common processing tasks. The benefits of NumPy become more apparent when there a relage quantities of homogenous data to be processed on the same CPU\n",
    "\n",
    "\n"
   ]
  },
  {
   "cell_type": "markdown",
   "id": "07b27bc4-e32d-4b05-8295-b45020a62868",
   "metadata": {},
   "source": [
    "with an array being a contigous gird of data, a ndomenional array is an array of arbitariy dimensions, consisting of lower-dimensional arrays stacked, as though they are on separate pages. \n",
    "\n",
    "Restrictions on data when dealing with numpy arrays:- \n",
    "1) all elements of the array msut be of the same type of data.\n",
    "2) once creted the total size of the aray cant change\n",
    "3) the shape msut be rectangular, not jagged."
   ]
  },
  {
   "cell_type": "markdown",
   "id": "e83363d5-ccb0-4fa7-918d-2d724870059c",
   "metadata": {},
   "source": [
    "when these conditions are met, numpy levarages these characteristics to make the array faster, more memory efficient. \n"
   ]
  },
  {
   "cell_type": "code",
   "execution_count": 1,
   "id": "43f96908-311f-45db-b027-b5328969598e",
   "metadata": {},
   "outputs": [],
   "source": [
    "import numpy as np"
   ]
  },
  {
   "cell_type": "code",
   "execution_count": 2,
   "id": "2cd06ca1-43e1-4e76-9573-aa446883bc61",
   "metadata": {},
   "outputs": [
    {
     "data": {
      "text/plain": [
       "array([1, 2, 3, 4, 5])"
      ]
     },
     "execution_count": 2,
     "metadata": {},
     "output_type": "execute_result"
    }
   ],
   "source": [
    "a = np.array([1,2,3,4,5])\n",
    "a"
   ]
  },
  {
   "cell_type": "code",
   "execution_count": 3,
   "id": "42460126-1d0a-4d0f-95d1-9757b6b448aa",
   "metadata": {},
   "outputs": [
    {
     "data": {
      "text/plain": [
       "array([1, 2, 3, 4, 5])"
      ]
     },
     "execution_count": 3,
     "metadata": {},
     "output_type": "execute_result"
    }
   ],
   "source": [
    "b = np.array((1,2,3,4,5))\n",
    "b"
   ]
  },
  {
   "cell_type": "code",
   "execution_count": 4,
   "id": "37ade4d3-fd63-4974-8445-05aa502f4c07",
   "metadata": {},
   "outputs": [
    {
     "data": {
      "text/plain": [
       "array([0, 2, 3, 4, 5])"
      ]
     },
     "execution_count": 4,
     "metadata": {},
     "output_type": "execute_result"
    }
   ],
   "source": [
    "a[0] = 0\n",
    "a"
   ]
  },
  {
   "cell_type": "code",
   "execution_count": 5,
   "id": "5f862b31-240f-4828-ac32-ef68bcec3c31",
   "metadata": {},
   "outputs": [
    {
     "data": {
      "text/plain": [
       "array([0, 2, 3])"
      ]
     },
     "execution_count": 5,
     "metadata": {},
     "output_type": "execute_result"
    }
   ],
   "source": [
    "a[:3]"
   ]
  },
  {
   "cell_type": "markdown",
   "id": "9629a93a-6d26-499b-bed6-879c40bb72f7",
   "metadata": {},
   "source": [
    "one major differnece between slice indexing of python list and that of array is that, slice indexing of a list copies the elements into a new list, but slicing an arary returns a view. \n",
    "a view is an object thaqt refers to the data in the original array. the original aray can be mutated vusing the view. "
   ]
  },
  {
   "cell_type": "code",
   "execution_count": 6,
   "id": "dc05b024-ce47-47dc-a975-dd3924e2e9dc",
   "metadata": {},
   "outputs": [
    {
     "data": {
      "text/plain": [
       "[1, 2, 3, 4]"
      ]
     },
     "execution_count": 6,
     "metadata": {},
     "output_type": "execute_result"
    }
   ],
   "source": [
    "a = [1,2,3,4]\n",
    "a"
   ]
  },
  {
   "cell_type": "code",
   "execution_count": 7,
   "id": "71cda4d7-7ccb-43f0-a87b-576cb3da530f",
   "metadata": {},
   "outputs": [
    {
     "data": {
      "text/plain": [
       "[1, 2, 3, 4]"
      ]
     },
     "execution_count": 7,
     "metadata": {},
     "output_type": "execute_result"
    }
   ],
   "source": [
    "b = a\n",
    "b"
   ]
  },
  {
   "cell_type": "code",
   "execution_count": 8,
   "id": "4e7213ac-4084-450b-9e4f-4f4475423b0b",
   "metadata": {},
   "outputs": [
    {
     "data": {
      "text/plain": [
       "[0, 2, 3, 4]"
      ]
     },
     "execution_count": 8,
     "metadata": {},
     "output_type": "execute_result"
    }
   ],
   "source": [
    "b[0] = 0\n",
    "b"
   ]
  },
  {
   "cell_type": "code",
   "execution_count": 9,
   "id": "5b9885d9-0eef-4be2-828a-14cb39ad4729",
   "metadata": {},
   "outputs": [
    {
     "data": {
      "text/plain": [
       "[0, 2, 3, 4]"
      ]
     },
     "execution_count": 9,
     "metadata": {},
     "output_type": "execute_result"
    }
   ],
   "source": [
    "a"
   ]
  },
  {
   "cell_type": "code",
   "execution_count": 10,
   "id": "1afeebce-5b86-4fcb-a259-a24e1d5b0813",
   "metadata": {},
   "outputs": [
    {
     "data": {
      "text/plain": [
       "[0, 2, 3, 4]"
      ]
     },
     "execution_count": 10,
     "metadata": {},
     "output_type": "execute_result"
    }
   ],
   "source": [
    "b = a[:]\n",
    "b"
   ]
  },
  {
   "cell_type": "code",
   "execution_count": 11,
   "id": "4ebfc4e3-6919-4189-8aec-38281f910271",
   "metadata": {},
   "outputs": [
    {
     "data": {
      "text/plain": [
       "[1, 2, 3, 4]"
      ]
     },
     "execution_count": 11,
     "metadata": {},
     "output_type": "execute_result"
    }
   ],
   "source": [
    "b[0] = 1\n",
    "b"
   ]
  },
  {
   "cell_type": "code",
   "execution_count": 12,
   "id": "14c64b6f-cf36-4456-9a32-e99eea83760e",
   "metadata": {},
   "outputs": [
    {
     "data": {
      "text/plain": [
       "[0, 2, 3, 4]"
      ]
     },
     "execution_count": 12,
     "metadata": {},
     "output_type": "execute_result"
    }
   ],
   "source": [
    "a"
   ]
  },
  {
   "cell_type": "code",
   "execution_count": 13,
   "id": "98ef5c60-1b43-4def-ac1a-e9bac50f56d4",
   "metadata": {},
   "outputs": [
    {
     "data": {
      "text/plain": [
       "array([1, 2, 3, 4])"
      ]
     },
     "execution_count": 13,
     "metadata": {},
     "output_type": "execute_result"
    }
   ],
   "source": [
    "a = np.array([1,2,3,4])\n",
    "a"
   ]
  },
  {
   "cell_type": "code",
   "execution_count": 14,
   "id": "c4917c52-9632-4852-93eb-158478ab1bef",
   "metadata": {},
   "outputs": [
    {
     "data": {
      "text/plain": [
       "array([1, 2, 3, 4])"
      ]
     },
     "execution_count": 14,
     "metadata": {},
     "output_type": "execute_result"
    }
   ],
   "source": [
    "b = a\n",
    "b"
   ]
  },
  {
   "cell_type": "code",
   "execution_count": 15,
   "id": "9a6e700b-114b-463e-9617-5385e30f2a72",
   "metadata": {},
   "outputs": [
    {
     "data": {
      "text/plain": [
       "array([0, 2, 3, 4])"
      ]
     },
     "execution_count": 15,
     "metadata": {},
     "output_type": "execute_result"
    }
   ],
   "source": [
    "b[0] = 0\n",
    "b"
   ]
  },
  {
   "cell_type": "code",
   "execution_count": 16,
   "id": "68d6542a-8b1c-4f33-980c-267f857fe3ee",
   "metadata": {},
   "outputs": [
    {
     "data": {
      "text/plain": [
       "array([0, 2, 3, 4])"
      ]
     },
     "execution_count": 16,
     "metadata": {},
     "output_type": "execute_result"
    }
   ],
   "source": [
    "a"
   ]
  },
  {
   "cell_type": "code",
   "execution_count": 17,
   "id": "08d77783-f48d-47b8-9106-282fd67ac002",
   "metadata": {},
   "outputs": [
    {
     "data": {
      "text/plain": [
       "array([0, 2, 3, 4])"
      ]
     },
     "execution_count": 17,
     "metadata": {},
     "output_type": "execute_result"
    }
   ],
   "source": [
    "b = a[:]\n",
    "b"
   ]
  },
  {
   "cell_type": "code",
   "execution_count": 18,
   "id": "569c8faf-3172-4e1d-925d-64b736ce2d78",
   "metadata": {},
   "outputs": [
    {
     "data": {
      "text/plain": [
       "array([0, 2, 3, 4])"
      ]
     },
     "execution_count": 18,
     "metadata": {},
     "output_type": "execute_result"
    }
   ],
   "source": [
    "a"
   ]
  },
  {
   "cell_type": "code",
   "execution_count": 19,
   "id": "8f8d08ad-8682-4e4d-9418-840c58feecff",
   "metadata": {},
   "outputs": [
    {
     "data": {
      "text/plain": [
       "array([1, 2, 3, 4])"
      ]
     },
     "execution_count": 19,
     "metadata": {},
     "output_type": "execute_result"
    }
   ],
   "source": [
    "b[0] = 1\n",
    "b"
   ]
  },
  {
   "cell_type": "code",
   "execution_count": 20,
   "id": "1a6d80c1-b871-49d8-94cc-d3d4e1263721",
   "metadata": {},
   "outputs": [
    {
     "data": {
      "text/plain": [
       "array([1, 2, 3, 4])"
      ]
     },
     "execution_count": 20,
     "metadata": {},
     "output_type": "execute_result"
    }
   ],
   "source": [
    "a"
   ]
  },
  {
   "cell_type": "markdown",
   "id": "085bd3cf-283f-4161-9db9-79a124eb9e3b",
   "metadata": {},
   "source": [
    "as seen above, slicing returned a view, that refers to the dat in the original array. the original array can be mutated with the view. but in regular python lists, slicing returns a completely new list, into which elements are copied into. "
   ]
  },
  {
   "cell_type": "markdown",
   "id": "e8e4cae1-885b-4853-a1a0-aaeca73579e2",
   "metadata": {},
   "source": [
    "Higher dimensional arrays can be initialized from nested python sequences. \n",
    "\n",
    "In numpy a dimensoin of an array is referred to as an axis. \n"
   ]
  },
  {
   "cell_type": "code",
   "execution_count": 21,
   "id": "0b4c0905-4da0-4b36-bb64-87a7b4e097e4",
   "metadata": {},
   "outputs": [],
   "source": [
    "def info(a):\n",
    "    print(f\"Array: \\n{a}\")\n",
    "    print(f\"Shape: {a.shape}\")\n",
    "    print(f\"Number of Dimensions: {a.ndim}\")\n",
    "    print(f\"Data Type: {a.dtype}\")"
   ]
  },
  {
   "cell_type": "code",
   "execution_count": 22,
   "id": "6f687629-b7a4-4f67-8dfe-78f07be76f46",
   "metadata": {},
   "outputs": [
    {
     "data": {
      "text/plain": [
       "1"
      ]
     },
     "execution_count": 22,
     "metadata": {},
     "output_type": "execute_result"
    }
   ],
   "source": [
    "a.ndim"
   ]
  },
  {
   "cell_type": "code",
   "execution_count": 23,
   "id": "156497dc-3aa1-4f4f-a4df-a045289c4449",
   "metadata": {},
   "outputs": [
    {
     "data": {
      "text/plain": [
       "array([[1, 2, 3, 4],\n",
       "       [1, 2, 3, 4],\n",
       "       [1, 2, 3, 4],\n",
       "       [1, 2, 3, 4]])"
      ]
     },
     "execution_count": 23,
     "metadata": {},
     "output_type": "execute_result"
    }
   ],
   "source": [
    "a = np.array([[i for i in range(1,5)] for j in range(1,5)])\n",
    "a"
   ]
  },
  {
   "cell_type": "code",
   "execution_count": 24,
   "id": "cab69d0c-93a6-498d-861b-36d0cd183902",
   "metadata": {},
   "outputs": [
    {
     "data": {
      "text/plain": [
       "2"
      ]
     },
     "execution_count": 24,
     "metadata": {},
     "output_type": "execute_result"
    }
   ],
   "source": [
    "a.ndim"
   ]
  },
  {
   "cell_type": "code",
   "execution_count": 25,
   "id": "1567b233-efe4-43b7-9700-f5e26964d56f",
   "metadata": {},
   "outputs": [
    {
     "data": {
      "text/plain": [
       "array([[[1]]])"
      ]
     },
     "execution_count": 25,
     "metadata": {},
     "output_type": "execute_result"
    }
   ],
   "source": [
    "a = np.array([[[1]]])\n",
    "a"
   ]
  },
  {
   "cell_type": "code",
   "execution_count": 26,
   "id": "f7d4de88-332d-48e0-9d08-2ee302ddebe2",
   "metadata": {},
   "outputs": [
    {
     "data": {
      "text/plain": [
       "3"
      ]
     },
     "execution_count": 26,
     "metadata": {},
     "output_type": "execute_result"
    }
   ],
   "source": [
    "a.ndim"
   ]
  },
  {
   "cell_type": "code",
   "execution_count": 27,
   "id": "d9a30ec4-869f-4f7f-a318-f0c4698e4252",
   "metadata": {},
   "outputs": [
    {
     "data": {
      "text/plain": [
       "(1, 1, 1)"
      ]
     },
     "execution_count": 27,
     "metadata": {},
     "output_type": "execute_result"
    }
   ],
   "source": [
    "a.shape"
   ]
  },
  {
   "cell_type": "code",
   "execution_count": 28,
   "id": "59c8dc0d-9a43-4b99-971d-026b88e202ae",
   "metadata": {},
   "outputs": [
    {
     "data": {
      "text/plain": [
       "array([[[1, 1]]])"
      ]
     },
     "execution_count": 28,
     "metadata": {},
     "output_type": "execute_result"
    }
   ],
   "source": [
    "a = np.array([[[1,1]]])\n",
    "a"
   ]
  },
  {
   "cell_type": "code",
   "execution_count": 29,
   "id": "958577ec-8e55-46e9-91d4-a2e7b60095dd",
   "metadata": {},
   "outputs": [
    {
     "data": {
      "text/plain": [
       "3"
      ]
     },
     "execution_count": 29,
     "metadata": {},
     "output_type": "execute_result"
    }
   ],
   "source": [
    "a.ndim\n"
   ]
  },
  {
   "cell_type": "code",
   "execution_count": 30,
   "id": "1abf8043-e826-4590-8b2d-847ee3ffd4df",
   "metadata": {},
   "outputs": [
    {
     "data": {
      "text/plain": [
       "(1, 1, 2)"
      ]
     },
     "execution_count": 30,
     "metadata": {},
     "output_type": "execute_result"
    }
   ],
   "source": [
    "a.shape"
   ]
  },
  {
   "cell_type": "code",
   "execution_count": 31,
   "id": "affb642a-e535-47e5-a1a1-760d16e760a1",
   "metadata": {},
   "outputs": [
    {
     "data": {
      "text/plain": [
       "array([[1, 1]])"
      ]
     },
     "execution_count": 31,
     "metadata": {},
     "output_type": "execute_result"
    }
   ],
   "source": [
    "a[0]"
   ]
  },
  {
   "cell_type": "code",
   "execution_count": 32,
   "id": "e6033246-d3bf-4a5c-aeac-3c76e9827664",
   "metadata": {},
   "outputs": [
    {
     "data": {
      "text/plain": [
       "array([1, 1])"
      ]
     },
     "execution_count": 32,
     "metadata": {},
     "output_type": "execute_result"
    }
   ],
   "source": [
    "a[0][0]"
   ]
  },
  {
   "cell_type": "code",
   "execution_count": 33,
   "id": "a3c52fbb-342a-49fc-85a0-c39aa521c3a5",
   "metadata": {},
   "outputs": [
    {
     "data": {
      "text/plain": [
       "array([[[1, 1]]])"
      ]
     },
     "execution_count": 33,
     "metadata": {},
     "output_type": "execute_result"
    }
   ],
   "source": [
    "a"
   ]
  },
  {
   "cell_type": "code",
   "execution_count": 34,
   "id": "89cd2e0d-37d7-4eee-b29e-46b4900c137e",
   "metadata": {},
   "outputs": [
    {
     "data": {
      "text/plain": [
       "array([[1, 1],\n",
       "       [1, 1]])"
      ]
     },
     "execution_count": 34,
     "metadata": {},
     "output_type": "execute_result"
    }
   ],
   "source": [
    "a = np.array([[1,1],[1,1]])\n",
    "a"
   ]
  },
  {
   "cell_type": "code",
   "execution_count": 35,
   "id": "01561d1a-1bb0-470b-8621-f60453c36214",
   "metadata": {},
   "outputs": [
    {
     "data": {
      "text/plain": [
       "(2, 2)"
      ]
     },
     "execution_count": 35,
     "metadata": {},
     "output_type": "execute_result"
    }
   ],
   "source": [
    "a.shape"
   ]
  },
  {
   "cell_type": "code",
   "execution_count": 36,
   "id": "181876e3-db1f-4b5e-97d5-d059787bc537",
   "metadata": {},
   "outputs": [
    {
     "data": {
      "text/plain": [
       "2"
      ]
     },
     "execution_count": 36,
     "metadata": {},
     "output_type": "execute_result"
    }
   ],
   "source": [
    "a.ndim"
   ]
  },
  {
   "cell_type": "code",
   "execution_count": 37,
   "id": "cb852976-8cdd-4fde-826e-a4169e3b3794",
   "metadata": {},
   "outputs": [
    {
     "data": {
      "text/plain": [
       "array([[[1, 1],\n",
       "        [1, 1]]])"
      ]
     },
     "execution_count": 37,
     "metadata": {},
     "output_type": "execute_result"
    }
   ],
   "source": [
    "a = np.array([[[1,1],[1,1]]])\n",
    "a"
   ]
  },
  {
   "cell_type": "code",
   "execution_count": 38,
   "id": "c13a8183-6a65-4682-8cef-6045528fdabd",
   "metadata": {},
   "outputs": [
    {
     "data": {
      "text/plain": [
       "(1, 2, 2)"
      ]
     },
     "execution_count": 38,
     "metadata": {},
     "output_type": "execute_result"
    }
   ],
   "source": [
    "a.shape"
   ]
  },
  {
   "cell_type": "code",
   "execution_count": 39,
   "id": "40f62ab4-4f73-425f-979f-2ab3521a9833",
   "metadata": {},
   "outputs": [
    {
     "data": {
      "text/plain": [
       "3"
      ]
     },
     "execution_count": 39,
     "metadata": {},
     "output_type": "execute_result"
    }
   ],
   "source": [
    "a.ndim"
   ]
  },
  {
   "cell_type": "code",
   "execution_count": 40,
   "id": "51a79def-6997-4a6c-844d-409512631c07",
   "metadata": {},
   "outputs": [
    {
     "name": "stdout",
     "output_type": "stream",
     "text": [
      "Array: \n",
      "[[[1 1]\n",
      "  [1 1]]]\n",
      "Shape: (1, 2, 2)\n",
      "Number of Dimensions: 3\n",
      "Data Type: int64\n"
     ]
    }
   ],
   "source": [
    "info(a)"
   ]
  },
  {
   "cell_type": "code",
   "execution_count": 41,
   "id": "aa20c5ef-f39a-48a2-a419-5d0b1bd5f3e0",
   "metadata": {},
   "outputs": [
    {
     "name": "stdout",
     "output_type": "stream",
     "text": [
      "Array: \n",
      "[[1 1]\n",
      " [1 2]]\n",
      "Shape: (2, 2)\n",
      "Number of Dimensions: 2\n",
      "Data Type: int64\n"
     ]
    }
   ],
   "source": [
    "a = np.array([[1,1],[1,2]])\n",
    "info(a)"
   ]
  },
  {
   "cell_type": "markdown",
   "id": "1e7816e2-bf51-4858-b059-a81f5e1066ca",
   "metadata": {},
   "source": [
    "so, the flow goes as follows: - element in a column, elements in a row, row in rows of rows, rows of rows in matrix, \n",
    "matrices in rows of matrices. \n",
    "\n",
    "so the number of dimensions can the thought of the number of nestings"
   ]
  },
  {
   "cell_type": "code",
   "execution_count": 42,
   "id": "15de9e37-bcfe-4d8c-bb3f-746255f3e4d2",
   "metadata": {},
   "outputs": [
    {
     "name": "stdout",
     "output_type": "stream",
     "text": [
      "Array: \n",
      "[[[[[1 2]]\n",
      "\n",
      "   [[3 4]]]]]\n",
      "Shape: (1, 1, 2, 1, 2)\n",
      "Number of Dimensions: 5\n",
      "Data Type: int64\n"
     ]
    }
   ],
   "source": [
    "a = np.array([[[[[1,2]],[[3,4]]]]])\n",
    "info(a)"
   ]
  },
  {
   "cell_type": "markdown",
   "id": "04ae9b50-61ba-4811-ae7c-10b68c9447e9",
   "metadata": {},
   "source": [
    "### creating basic arrays:- "
   ]
  },
  {
   "cell_type": "code",
   "execution_count": 45,
   "id": "cfc79cc6-adcd-49a7-bd6c-0599c545dc94",
   "metadata": {},
   "outputs": [
    {
     "name": "stdout",
     "output_type": "stream",
     "text": [
      "Array: \n",
      "[[0. 0. 0.]\n",
      " [0. 0. 0.]]\n",
      "Shape: (2, 3)\n",
      "Number of Dimensions: 2\n",
      "Data Type: float64\n"
     ]
    }
   ],
   "source": [
    "a = np.zeros((2,3))\n",
    "info(a)"
   ]
  },
  {
   "cell_type": "code",
   "execution_count": 49,
   "id": "c8b343da-c998-44fb-929e-6fc1e948678b",
   "metadata": {},
   "outputs": [
    {
     "name": "stdout",
     "output_type": "stream",
     "text": [
      "Array: \n",
      "[[[[1. 1.]\n",
      "   [1. 1.]]\n",
      "\n",
      "  [[1. 1.]\n",
      "   [1. 1.]]]\n",
      "\n",
      "\n",
      " [[[1. 1.]\n",
      "   [1. 1.]]\n",
      "\n",
      "  [[1. 1.]\n",
      "   [1. 1.]]]]\n",
      "Shape: (2, 2, 2, 2)\n",
      "Number of Dimensions: 4\n",
      "Data Type: float64\n"
     ]
    }
   ],
   "source": [
    "b = np.ones((2,2,2,2,))\n",
    "info(b)"
   ]
  },
  {
   "cell_type": "code",
   "execution_count": 52,
   "id": "37876b15-c33b-4771-953f-2445d206c608",
   "metadata": {},
   "outputs": [
    {
     "data": {
      "text/plain": [
       "array([[[0., 0., 0.],\n",
       "        [0., 0., 0.],\n",
       "        [0., 0., 0.]],\n",
       "\n",
       "       [[0., 0., 0.],\n",
       "        [0., 0., 0.],\n",
       "        [0., 0., 0.]]])"
      ]
     },
     "execution_count": 52,
     "metadata": {},
     "output_type": "execute_result"
    }
   ],
   "source": [
    "np.empty((2,3,3))"
   ]
  },
  {
   "cell_type": "code",
   "execution_count": 54,
   "id": "e645ce78-2e60-48d1-8a56-d3bf4faf5470",
   "metadata": {},
   "outputs": [
    {
     "name": "stdout",
     "output_type": "stream",
     "text": [
      "Array: \n",
      "[]\n",
      "Shape: (0, 0, 0)\n",
      "Number of Dimensions: 3\n",
      "Data Type: float64\n",
      "None\n",
      "Array: \n",
      "[[[1.]]]\n",
      "Shape: (1, 1, 1)\n",
      "Number of Dimensions: 3\n",
      "Data Type: float64\n",
      "None\n",
      "Array: \n",
      "[[[1. 1.]\n",
      "  [1. 1.]]\n",
      "\n",
      " [[1. 1.]\n",
      "  [1. 1.]]]\n",
      "Shape: (2, 2, 2)\n",
      "Number of Dimensions: 3\n",
      "Data Type: float64\n",
      "None\n"
     ]
    }
   ],
   "source": [
    "for i in range(3):\n",
    "    print(info(np.ones((i,i,i))))"
   ]
  },
  {
   "cell_type": "code",
   "execution_count": 67,
   "id": "fc78bf28-4937-42e8-be40-2b97d6296d90",
   "metadata": {},
   "outputs": [
    {
     "name": "stdout",
     "output_type": "stream",
     "text": [
      "Array: \n",
      "[1 2 3 4 5 6 7 8]\n",
      "Shape: (8,)\n",
      "Number of Dimensions: 1\n",
      "Data Type: int64\n"
     ]
    }
   ],
   "source": [
    "a = np.arange(1,9)\n",
    "info(a)"
   ]
  },
  {
   "cell_type": "code",
   "execution_count": 68,
   "id": "a82503b6-83b9-47b5-854e-e3eadba7819a",
   "metadata": {},
   "outputs": [
    {
     "data": {
      "text/plain": [
       "array([[[1, 2, 3, 4, 5, 6, 7, 8]]])"
      ]
     },
     "execution_count": 68,
     "metadata": {},
     "output_type": "execute_result"
    }
   ],
   "source": [
    "a.reshape((1,1,8))"
   ]
  },
  {
   "cell_type": "code",
   "execution_count": 78,
   "id": "7e7cc088-5c9e-490f-884d-78e9d684d2f9",
   "metadata": {},
   "outputs": [],
   "source": [
    "from itertools import permutations\n",
    "\n",
    "def reshape_combinations(arr):\n",
    "    n = arr.size\n",
    "    \n",
    "    # Iterate over possible values of a\n",
    "    for a in range(1, int(n ** (1/3)) + 1):\n",
    "        if n % a == 0:  # a must divide n\n",
    "            n_a = n // a  # Reduce n by a\n",
    "            # Iterate over possible values of b\n",
    "            for b in range(1, int(n_a ** 0.5) + 1):\n",
    "                if n_a % b == 0:  # b must divide n/a\n",
    "                    c = n_a // b  # c is determined by a and b\n",
    "                    if a * b * c == n:\n",
    "                        # Generate all permutations of (a, b, c)\n",
    "                        perms = permutations((a, b, c))\n",
    "                        for perm in perms:\n",
    "                            info(arr.reshape(perm))"
   ]
  },
  {
   "cell_type": "code",
   "execution_count": 79,
   "id": "fe15f5f7-fe79-4334-bd8c-5dbd3e043411",
   "metadata": {},
   "outputs": [
    {
     "name": "stdout",
     "output_type": "stream",
     "text": [
      "Array: \n",
      "[[[1 2 3 4 5 6 7 8]]]\n",
      "Shape: (1, 1, 8)\n",
      "Number of Dimensions: 3\n",
      "Data Type: int64\n",
      "Array: \n",
      "[[[1]\n",
      "  [2]\n",
      "  [3]\n",
      "  [4]\n",
      "  [5]\n",
      "  [6]\n",
      "  [7]\n",
      "  [8]]]\n",
      "Shape: (1, 8, 1)\n",
      "Number of Dimensions: 3\n",
      "Data Type: int64\n",
      "Array: \n",
      "[[[1 2 3 4 5 6 7 8]]]\n",
      "Shape: (1, 1, 8)\n",
      "Number of Dimensions: 3\n",
      "Data Type: int64\n",
      "Array: \n",
      "[[[1]\n",
      "  [2]\n",
      "  [3]\n",
      "  [4]\n",
      "  [5]\n",
      "  [6]\n",
      "  [7]\n",
      "  [8]]]\n",
      "Shape: (1, 8, 1)\n",
      "Number of Dimensions: 3\n",
      "Data Type: int64\n",
      "Array: \n",
      "[[[1]]\n",
      "\n",
      " [[2]]\n",
      "\n",
      " [[3]]\n",
      "\n",
      " [[4]]\n",
      "\n",
      " [[5]]\n",
      "\n",
      " [[6]]\n",
      "\n",
      " [[7]]\n",
      "\n",
      " [[8]]]\n",
      "Shape: (8, 1, 1)\n",
      "Number of Dimensions: 3\n",
      "Data Type: int64\n",
      "Array: \n",
      "[[[1]]\n",
      "\n",
      " [[2]]\n",
      "\n",
      " [[3]]\n",
      "\n",
      " [[4]]\n",
      "\n",
      " [[5]]\n",
      "\n",
      " [[6]]\n",
      "\n",
      " [[7]]\n",
      "\n",
      " [[8]]]\n",
      "Shape: (8, 1, 1)\n",
      "Number of Dimensions: 3\n",
      "Data Type: int64\n",
      "Array: \n",
      "[[[1 2 3 4]\n",
      "  [5 6 7 8]]]\n",
      "Shape: (1, 2, 4)\n",
      "Number of Dimensions: 3\n",
      "Data Type: int64\n",
      "Array: \n",
      "[[[1 2]\n",
      "  [3 4]\n",
      "  [5 6]\n",
      "  [7 8]]]\n",
      "Shape: (1, 4, 2)\n",
      "Number of Dimensions: 3\n",
      "Data Type: int64\n",
      "Array: \n",
      "[[[1 2 3 4]]\n",
      "\n",
      " [[5 6 7 8]]]\n",
      "Shape: (2, 1, 4)\n",
      "Number of Dimensions: 3\n",
      "Data Type: int64\n",
      "Array: \n",
      "[[[1]\n",
      "  [2]\n",
      "  [3]\n",
      "  [4]]\n",
      "\n",
      " [[5]\n",
      "  [6]\n",
      "  [7]\n",
      "  [8]]]\n",
      "Shape: (2, 4, 1)\n",
      "Number of Dimensions: 3\n",
      "Data Type: int64\n",
      "Array: \n",
      "[[[1 2]]\n",
      "\n",
      " [[3 4]]\n",
      "\n",
      " [[5 6]]\n",
      "\n",
      " [[7 8]]]\n",
      "Shape: (4, 1, 2)\n",
      "Number of Dimensions: 3\n",
      "Data Type: int64\n",
      "Array: \n",
      "[[[1]\n",
      "  [2]]\n",
      "\n",
      " [[3]\n",
      "  [4]]\n",
      "\n",
      " [[5]\n",
      "  [6]]\n",
      "\n",
      " [[7]\n",
      "  [8]]]\n",
      "Shape: (4, 2, 1)\n",
      "Number of Dimensions: 3\n",
      "Data Type: int64\n",
      "Array: \n",
      "[[[1 2 3 4]]\n",
      "\n",
      " [[5 6 7 8]]]\n",
      "Shape: (2, 1, 4)\n",
      "Number of Dimensions: 3\n",
      "Data Type: int64\n",
      "Array: \n",
      "[[[1]\n",
      "  [2]\n",
      "  [3]\n",
      "  [4]]\n",
      "\n",
      " [[5]\n",
      "  [6]\n",
      "  [7]\n",
      "  [8]]]\n",
      "Shape: (2, 4, 1)\n",
      "Number of Dimensions: 3\n",
      "Data Type: int64\n",
      "Array: \n",
      "[[[1 2 3 4]\n",
      "  [5 6 7 8]]]\n",
      "Shape: (1, 2, 4)\n",
      "Number of Dimensions: 3\n",
      "Data Type: int64\n",
      "Array: \n",
      "[[[1 2]\n",
      "  [3 4]\n",
      "  [5 6]\n",
      "  [7 8]]]\n",
      "Shape: (1, 4, 2)\n",
      "Number of Dimensions: 3\n",
      "Data Type: int64\n",
      "Array: \n",
      "[[[1]\n",
      "  [2]]\n",
      "\n",
      " [[3]\n",
      "  [4]]\n",
      "\n",
      " [[5]\n",
      "  [6]]\n",
      "\n",
      " [[7]\n",
      "  [8]]]\n",
      "Shape: (4, 2, 1)\n",
      "Number of Dimensions: 3\n",
      "Data Type: int64\n",
      "Array: \n",
      "[[[1 2]]\n",
      "\n",
      " [[3 4]]\n",
      "\n",
      " [[5 6]]\n",
      "\n",
      " [[7 8]]]\n",
      "Shape: (4, 1, 2)\n",
      "Number of Dimensions: 3\n",
      "Data Type: int64\n",
      "Array: \n",
      "[[[1 2]\n",
      "  [3 4]]\n",
      "\n",
      " [[5 6]\n",
      "  [7 8]]]\n",
      "Shape: (2, 2, 2)\n",
      "Number of Dimensions: 3\n",
      "Data Type: int64\n",
      "Array: \n",
      "[[[1 2]\n",
      "  [3 4]]\n",
      "\n",
      " [[5 6]\n",
      "  [7 8]]]\n",
      "Shape: (2, 2, 2)\n",
      "Number of Dimensions: 3\n",
      "Data Type: int64\n",
      "Array: \n",
      "[[[1 2]\n",
      "  [3 4]]\n",
      "\n",
      " [[5 6]\n",
      "  [7 8]]]\n",
      "Shape: (2, 2, 2)\n",
      "Number of Dimensions: 3\n",
      "Data Type: int64\n",
      "Array: \n",
      "[[[1 2]\n",
      "  [3 4]]\n",
      "\n",
      " [[5 6]\n",
      "  [7 8]]]\n",
      "Shape: (2, 2, 2)\n",
      "Number of Dimensions: 3\n",
      "Data Type: int64\n",
      "Array: \n",
      "[[[1 2]\n",
      "  [3 4]]\n",
      "\n",
      " [[5 6]\n",
      "  [7 8]]]\n",
      "Shape: (2, 2, 2)\n",
      "Number of Dimensions: 3\n",
      "Data Type: int64\n",
      "Array: \n",
      "[[[1 2]\n",
      "  [3 4]]\n",
      "\n",
      " [[5 6]\n",
      "  [7 8]]]\n",
      "Shape: (2, 2, 2)\n",
      "Number of Dimensions: 3\n",
      "Data Type: int64\n"
     ]
    }
   ],
   "source": [
    "reshape_combinations(a)"
   ]
  },
  {
   "cell_type": "code",
   "execution_count": 83,
   "id": "b20e9456-ce7a-40a6-82ec-d809f3cfa199",
   "metadata": {},
   "outputs": [
    {
     "name": "stdout",
     "output_type": "stream",
     "text": [
      "Array: \n",
      "[ 0.   2.5  5.   7.5 10. ]\n",
      "Shape: (5,)\n",
      "Number of Dimensions: 1\n",
      "Data Type: float64\n"
     ]
    }
   ],
   "source": [
    "a = np.linspace(0,10,num = 5)\n",
    "info(a)"
   ]
  },
  {
   "cell_type": "code",
   "execution_count": null,
   "id": "1150e58c-bfc9-4d6a-8fe5-a94452f6ddc1",
   "metadata": {},
   "outputs": [],
   "source": []
  }
 ],
 "metadata": {
  "kernelspec": {
   "display_name": "Python 3 (ipykernel)",
   "language": "python",
   "name": "python3"
  },
  "language_info": {
   "codemirror_mode": {
    "name": "ipython",
    "version": 3
   },
   "file_extension": ".py",
   "mimetype": "text/x-python",
   "name": "python",
   "nbconvert_exporter": "python",
   "pygments_lexer": "ipython3",
   "version": "3.12.7"
  },
  "toc": {
   "base_numbering": 1,
   "nav_menu": {},
   "number_sections": true,
   "sideBar": true,
   "skip_h1_title": false,
   "title_cell": "Table of Contents",
   "title_sidebar": "Contents",
   "toc_cell": false,
   "toc_position": {
    "height": "calc(100% - 180px)",
    "left": "10px",
    "top": "150px",
    "width": "187px"
   },
   "toc_section_display": true,
   "toc_window_display": false
  },
  "varInspector": {
   "cols": {
    "lenName": 16,
    "lenType": 16,
    "lenVar": 40
   },
   "kernels_config": {
    "python": {
     "delete_cmd_postfix": "",
     "delete_cmd_prefix": "del ",
     "library": "var_list.py",
     "varRefreshCmd": "print(var_dic_list())"
    },
    "r": {
     "delete_cmd_postfix": ") ",
     "delete_cmd_prefix": "rm(",
     "library": "var_list.r",
     "varRefreshCmd": "cat(var_dic_list()) "
    }
   },
   "types_to_exclude": [
    "module",
    "function",
    "builtin_function_or_method",
    "instance",
    "_Feature"
   ],
   "window_display": false
  }
 },
 "nbformat": 4,
 "nbformat_minor": 5
}
