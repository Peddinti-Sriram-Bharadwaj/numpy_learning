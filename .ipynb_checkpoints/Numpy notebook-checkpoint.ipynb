{
 "cells": [
  {
   "cell_type": "markdown",
   "id": "1ec89e51",
   "metadata": {},
   "source": [
    "# Learning numpy"
   ]
  },
  {
   "cell_type": "markdown",
   "id": "5fbd375c",
   "metadata": {},
   "source": [
    "## introduction\n",
    "\n",
    "Numpy stands for numerical python. it is an open source python library that's widely used in science and engineering. \n",
    "\n",
    "it contains mulitdimensional array data structures and a large library of functions that operate efficiently on these data structures. It also provides various derived objects, and routines for fast operations."
   ]
  },
  {
   "cell_type": "markdown",
   "id": "86927a69",
   "metadata": {},
   "source": [
    "some salient features:- \n",
    "\n",
    "- Powerful N-dimensional arrays\n",
    "- Offers Numerical computing tools\n",
    "- Open source unde the BSD license\n",
    "- Interoperable with a variety of hardware and computing platforms. \n",
    "- performant owing to its well-optimized C code.\n",
    "- easy to use"
   ]
  },
  {
   "cell_type": "markdown",
   "id": "ab9d749c",
   "metadata": {},
   "source": [
    "## Ecosystem\n",
    "\n",
    "- Scientific domans\n",
    "    - Quantum computing\n",
    "    - Statistical computing\n",
    "    - Signal Processing\n",
    "    - Image processing\n",
    "    - Graphs and networks \n",
    "    - Astronomy\n",
    "    - Cognitive Psychology\n",
    "    - Bioinformatics\n",
    "    - Bayesian inference\n",
    "    - Mathematical analysis\n",
    "    - Chemistry\n",
    "    - Geoscience\n",
    "    - Geographic processing\n",
    "    - architecture and engineering\n",
    "\n",
    "- Array libraries\n",
    "    - Dask (Scalable for high databolumes)\n",
    "    - Cupy\n",
    "    - JAX\n",
    "    - Xarray\n",
    "    - sparse\n",
    "    - PyTorch\n",
    "    - Tensorflow\n",
    "    - Arrow\n",
    "    - xtensor\n",
    "    - Awkward Array\n",
    "    - Array \n",
    "    - uarray\n",
    "    - tensorly\n",
    "\n",
    "- Data science\n",
    "    - ETL\n",
    "    - Exploratory analysis\n",
    "    - model and evaluate\n",
    "    - reprot in dashboard\n",
    "\n",
    "- Machine Learning\n",
    "    - Scikit-learn\n",
    "    - Scipy\n",
    "    - Tensorflow\n",
    "    - PyTorch\n",
    "    - XGBoost\n",
    "    - LightGBM\n",
    "    - CatBoost\n",
    "    - Yellowbrick\n",
    "    - Eli5\n",
    "\n",
    "- Visualization\n",
    "    - Matplotlib\n",
    "    - Seaborn\n",
    "    - Plotly\n",
    "    - Altair\n",
    "    - Bokeh\n",
    "    - Holoviz\n",
    "    - Vispy\n",
    "    - Napari\n",
    "    - PyVista\n"
   ]
  },
  {
   "cell_type": "markdown",
   "id": "c1dd4b05",
   "metadata": {},
   "source": [
    "## more about numpy"
   ]
  },
  {
   "cell_type": "markdown",
   "id": "1400030e",
   "metadata": {},
   "source": [
    "at the core, there is the ndarray object, that encapsulates nd arrays of homogenous data types, with many operations being performed in compiled code. \n",
    "\n",
    "numpy arrays have a fixed size at creation. changing the size will create a new ndarray and delete the original one. \n",
    "\n",
    "the elements in numpy array are all required to be of the same data tyep, and thus will be of the same size in memory. Arrays of objects however can have differnet sized elements. \n",
    "\n",
    "numpy arrays facilitate advanced mathematical and other types of operations on large numbers of data. \n",
    "\n",
    "it has a growing plehtora of scientific and mathematical python-based packages using numpy arrays. though they accept a python-like array as input, they convert such input into numpy arrays prior to processing. \n",
    "\n",
    "Numpy give the best of both worlds :- C and python.\n",
    " - the ease of coding from python\n",
    " - the efficiency of loops in C\n",
    "\n",
    "it does this by having element-by-element operations as the default mode when an ndarray is involved, speeden up by pre-compiled C code. \n",
    "\n"
   ]
  },
  {
   "cell_type": "markdown",
   "id": "98a92856",
   "metadata": {},
   "source": [
    "## why is numpy fast\n",
    "\n",
    "vectorization describes the absence of any explicit looping, indexing etc. \n",
    "they however, happen in the background, in optimized pre-compiled C code. \n",
    "\n",
    "advantages of vectorized code:- \n",
    "- concise and easier to read\n",
    "- fewer lines of code \n",
    "- closely resembles the standard mathematical notation\n",
    "\n",
    "Broadcasting is the term used to describte the implict element-by-element behavirou of operaiotns. \n",
    "all operations in numpy behave in this implicit element-by-element fashion, i.e they broadcast. \n"
   ]
  },
  {
   "cell_type": "markdown",
   "id": "570bf1b3",
   "metadata": {},
   "source": [
    "# Quickstart\n"
   ]
  },
  {
   "cell_type": "markdown",
   "id": "829898cb",
   "metadata": {},
   "source": [
    "## The basics"
   ]
  },
  {
   "cell_type": "markdown",
   "id": "0e39219b",
   "metadata": {},
   "source": [
    "the homogenous multidimensional array is a table of elements, all of the same type, indexed by a tuple of non-negative integers. \n",
    "\n",
    "in numpy dimensions are called axes. \n",
    "\n",
    "some important attributes of ndarray object are:- \n",
    "\n",
    "ndarray.ndim:- number of axes\n",
    "\n",
    "ndarray.shape:- dimensions of the array.\n",
    "\n",
    "ndarray.size:- total nmber of elements of the array(product of dimensions)\n",
    "\n",
    "ndarray.dtype:- type of elements.\n",
    "\n",
    "ndarray.itemsize:- size in bytes of each element. "
   ]
  },
  {
   "cell_type": "code",
   "execution_count": 1,
   "id": "61e9f745",
   "metadata": {},
   "outputs": [],
   "source": [
    "import numpy as np"
   ]
  },
  {
   "cell_type": "code",
   "execution_count": 2,
   "id": "fe249859",
   "metadata": {},
   "outputs": [
    {
     "data": {
      "text/plain": [
       "array([ 0,  1,  2,  3,  4,  5,  6,  7,  8,  9, 10, 11, 12, 13, 14])"
      ]
     },
     "execution_count": 2,
     "metadata": {},
     "output_type": "execute_result"
    }
   ],
   "source": [
    "a = np.arange(15)\n",
    "a"
   ]
  },
  {
   "cell_type": "code",
   "execution_count": 3,
   "id": "78d92a54",
   "metadata": {},
   "outputs": [
    {
     "data": {
      "text/plain": [
       "array([ 0,  1,  2,  3,  4,  5,  6,  7,  8,  9, 10, 11, 12, 13, 14])"
      ]
     },
     "execution_count": 3,
     "metadata": {},
     "output_type": "execute_result"
    }
   ],
   "source": [
    "a.reshape(3,5)\n",
    "a"
   ]
  },
  {
   "cell_type": "code",
   "execution_count": 4,
   "id": "4acc98b5",
   "metadata": {},
   "outputs": [
    {
     "data": {
      "text/plain": [
       "array([[ 0,  1,  2,  3,  4],\n",
       "       [ 5,  6,  7,  8,  9],\n",
       "       [10, 11, 12, 13, 14]])"
      ]
     },
     "execution_count": 4,
     "metadata": {},
     "output_type": "execute_result"
    }
   ],
   "source": [
    "a = a.reshape(3,5)\n",
    "a"
   ]
  },
  {
   "cell_type": "code",
   "execution_count": 5,
   "id": "5458bf3c",
   "metadata": {},
   "outputs": [
    {
     "data": {
      "text/plain": [
       "(3, 5)"
      ]
     },
     "execution_count": 5,
     "metadata": {},
     "output_type": "execute_result"
    }
   ],
   "source": [
    "a.shape\n"
   ]
  },
  {
   "cell_type": "code",
   "execution_count": 6,
   "id": "754c76c6",
   "metadata": {},
   "outputs": [
    {
     "data": {
      "text/plain": [
       "2"
      ]
     },
     "execution_count": 6,
     "metadata": {},
     "output_type": "execute_result"
    }
   ],
   "source": [
    "a.ndim"
   ]
  },
  {
   "cell_type": "code",
   "execution_count": 7,
   "id": "123a32c7",
   "metadata": {},
   "outputs": [
    {
     "data": {
      "text/plain": [
       "'int64'"
      ]
     },
     "execution_count": 7,
     "metadata": {},
     "output_type": "execute_result"
    }
   ],
   "source": [
    "a.dtype.name"
   ]
  },
  {
   "cell_type": "code",
   "execution_count": 8,
   "id": "031ea0af",
   "metadata": {},
   "outputs": [
    {
     "data": {
      "text/plain": [
       "8"
      ]
     },
     "execution_count": 8,
     "metadata": {},
     "output_type": "execute_result"
    }
   ],
   "source": [
    "a.itemsize"
   ]
  },
  {
   "cell_type": "code",
   "execution_count": 9,
   "id": "3fb98449",
   "metadata": {},
   "outputs": [
    {
     "data": {
      "text/plain": [
       "15"
      ]
     },
     "execution_count": 9,
     "metadata": {},
     "output_type": "execute_result"
    }
   ],
   "source": [
    "a.size"
   ]
  },
  {
   "cell_type": "code",
   "execution_count": 10,
   "id": "e405d820",
   "metadata": {},
   "outputs": [
    {
     "data": {
      "text/plain": [
       "numpy.ndarray"
      ]
     },
     "execution_count": 10,
     "metadata": {},
     "output_type": "execute_result"
    }
   ],
   "source": [
    "type(a)"
   ]
  },
  {
   "cell_type": "markdown",
   "id": "eb535b7a",
   "metadata": {},
   "source": [
    "## Array creation\n"
   ]
  },
  {
   "cell_type": "markdown",
   "id": "3efc1758",
   "metadata": {},
   "source": [
    "can be created from a regular python list or a tuple using the array function. \n",
    "type of the array is deduced from the type of the elements in the sequences"
   ]
  },
  {
   "cell_type": "code",
   "execution_count": 11,
   "id": "31089cc6",
   "metadata": {},
   "outputs": [
    {
     "data": {
      "text/plain": [
       "array([1, 2, 3])"
      ]
     },
     "execution_count": 11,
     "metadata": {},
     "output_type": "execute_result"
    }
   ],
   "source": [
    "a = np.array([1,2,3])\n",
    "a"
   ]
  },
  {
   "cell_type": "code",
   "execution_count": 12,
   "id": "aae5b558",
   "metadata": {},
   "outputs": [
    {
     "data": {
      "text/plain": [
       "array([1.1])"
      ]
     },
     "execution_count": 12,
     "metadata": {},
     "output_type": "execute_result"
    }
   ],
   "source": [
    "b = np.array((1.1,))\n",
    "b"
   ]
  },
  {
   "cell_type": "code",
   "execution_count": 13,
   "id": "ea0ac299",
   "metadata": {},
   "outputs": [
    {
     "data": {
      "text/plain": [
       "dtype('int64')"
      ]
     },
     "execution_count": 13,
     "metadata": {},
     "output_type": "execute_result"
    }
   ],
   "source": [
    "a.dtype"
   ]
  },
  {
   "cell_type": "code",
   "execution_count": 14,
   "id": "2792e5c2",
   "metadata": {},
   "outputs": [
    {
     "data": {
      "text/plain": [
       "dtype('float64')"
      ]
     },
     "execution_count": 14,
     "metadata": {},
     "output_type": "execute_result"
    }
   ],
   "source": [
    "b.dtype"
   ]
  },
  {
   "cell_type": "markdown",
   "id": "7978d314",
   "metadata": {},
   "source": [
    "type of array can alsoe be explicitly specified at creation time:- "
   ]
  },
  {
   "cell_type": "code",
   "execution_count": 15,
   "id": "6b88bcd1",
   "metadata": {},
   "outputs": [
    {
     "data": {
      "text/plain": [
       "array([[1.+0.j, 2.+0.j, 3.+0.j],\n",
       "       [4.+0.j, 5.+0.j, 6.+0.j]])"
      ]
     },
     "execution_count": 15,
     "metadata": {},
     "output_type": "execute_result"
    }
   ],
   "source": [
    "c = np.array([[1,2,3], [4,5,6]], dtype = complex)\n",
    "c"
   ]
  },
  {
   "cell_type": "markdown",
   "id": "8295dcc4",
   "metadata": {},
   "source": [
    "### array creation with placeholder content"
   ]
  },
  {
   "cell_type": "markdown",
   "id": "15145f18",
   "metadata": {},
   "source": [
    "often, the elements of an array are originally unknown, but its size is known. \n",
    "hence, numpy offers several functions to reata arrays with initial placeholder content. \n",
    "\n",
    "These minimize the necessity of growing arrays, an expensive operation"
   ]
  },
  {
   "cell_type": "markdown",
   "id": "85dcea3e",
   "metadata": {},
   "source": [
    "#### zeros"
   ]
  },
  {
   "cell_type": "code",
   "execution_count": 16,
   "id": "0442f811",
   "metadata": {},
   "outputs": [
    {
     "data": {
      "text/plain": [
       "array([[0., 0., 0., 0.],\n",
       "       [0., 0., 0., 0.],\n",
       "       [0., 0., 0., 0.]])"
      ]
     },
     "execution_count": 16,
     "metadata": {},
     "output_type": "execute_result"
    }
   ],
   "source": [
    "np.zeros((3,4))"
   ]
  },
  {
   "cell_type": "markdown",
   "id": "877a4307",
   "metadata": {},
   "source": [
    "#### ones"
   ]
  },
  {
   "cell_type": "code",
   "execution_count": 17,
   "id": "8f0a835f",
   "metadata": {},
   "outputs": [
    {
     "data": {
      "text/plain": [
       "array([[[1., 1., 1., 1.],\n",
       "        [1., 1., 1., 1.],\n",
       "        [1., 1., 1., 1.]],\n",
       "\n",
       "       [[1., 1., 1., 1.],\n",
       "        [1., 1., 1., 1.],\n",
       "        [1., 1., 1., 1.]]])"
      ]
     },
     "execution_count": 17,
     "metadata": {},
     "output_type": "execute_result"
    }
   ],
   "source": [
    "np.ones((2,3,4))"
   ]
  },
  {
   "cell_type": "markdown",
   "id": "5cbe1b01",
   "metadata": {},
   "source": [
    "#### random"
   ]
  },
  {
   "cell_type": "markdown",
   "id": "31cda1ea",
   "metadata": {},
   "source": [
    "creates an array whose initial content is random, and depedsn on the state of memory. by default the created array is float64"
   ]
  },
  {
   "cell_type": "code",
   "execution_count": 18,
   "id": "68323cb9",
   "metadata": {},
   "outputs": [
    {
     "data": {
      "text/plain": [
       "array([[[0., 0., 0., 0., 0., 0.],\n",
       "        [0., 0., 0., 0., 0., 0.],\n",
       "        [0., 0., 0., 0., 0., 0.],\n",
       "        [0., 0., 0., 0., 0., 0.],\n",
       "        [0., 0., 0., 0., 0., 0.]],\n",
       "\n",
       "       [[0., 0., 0., 0., 0., 0.],\n",
       "        [0., 0., 0., 0., 0., 0.],\n",
       "        [0., 0., 0., 0., 0., 0.],\n",
       "        [0., 0., 0., 0., 0., 0.],\n",
       "        [0., 0., 0., 0., 0., 0.]],\n",
       "\n",
       "       [[0., 0., 0., 0., 0., 0.],\n",
       "        [0., 0., 0., 0., 0., 0.],\n",
       "        [0., 0., 0., 0., 0., 0.],\n",
       "        [0., 0., 0., 0., 0., 0.],\n",
       "        [0., 0., 0., 0., 0., 0.]]])"
      ]
     },
     "execution_count": 18,
     "metadata": {},
     "output_type": "execute_result"
    }
   ],
   "source": [
    "np.empty((3,5,6))"
   ]
  },
  {
   "cell_type": "markdown",
   "id": "a18436f6",
   "metadata": {},
   "source": [
    "### sequences\n",
    "#### arange"
   ]
  },
  {
   "cell_type": "code",
   "execution_count": 19,
   "id": "61b70edc",
   "metadata": {},
   "outputs": [
    {
     "data": {
      "text/plain": [
       "array([ 0,  1,  2,  3,  4,  5,  6,  7,  8,  9, 10, 11, 12, 13, 14])"
      ]
     },
     "execution_count": 19,
     "metadata": {},
     "output_type": "execute_result"
    }
   ],
   "source": [
    "np.arange(15)"
   ]
  },
  {
   "cell_type": "code",
   "execution_count": 20,
   "id": "3b7a9b38",
   "metadata": {},
   "outputs": [
    {
     "data": {
      "text/plain": [
       "array([ 0,  5, 10, 15, 20, 25, 30, 35, 40, 45, 50, 55, 60, 65, 70, 75, 80,\n",
       "       85, 90, 95])"
      ]
     },
     "execution_count": 20,
     "metadata": {},
     "output_type": "execute_result"
    }
   ],
   "source": [
    "np.arange(0,100,5)"
   ]
  },
  {
   "cell_type": "markdown",
   "id": "5d618248",
   "metadata": {},
   "source": [
    "#### linspace"
   ]
  },
  {
   "cell_type": "code",
   "execution_count": 21,
   "id": "5d827300",
   "metadata": {},
   "outputs": [
    {
     "data": {
      "text/plain": [
       "array([0.        , 0.11111111, 0.22222222, 0.33333333, 0.44444444,\n",
       "       0.55555556, 0.66666667, 0.77777778, 0.88888889, 1.        ])"
      ]
     },
     "execution_count": 21,
     "metadata": {},
     "output_type": "execute_result"
    }
   ],
   "source": [
    "np.linspace(0,1,10)"
   ]
  },
  {
   "cell_type": "code",
   "execution_count": 22,
   "id": "212fb856",
   "metadata": {},
   "outputs": [
    {
     "ename": "AttributeError",
     "evalue": "module 'numpy' has no attribute 'linspac'",
     "output_type": "error",
     "traceback": [
      "\u001b[0;31m---------------------------------------------------------------------------\u001b[0m",
      "\u001b[0;31mAttributeError\u001b[0m                            Traceback (most recent call last)",
      "Cell \u001b[0;32mIn[22], line 1\u001b[0m\n\u001b[0;32m----> 1\u001b[0m x \u001b[38;5;241m=\u001b[39m \u001b[43mnp\u001b[49m\u001b[38;5;241;43m.\u001b[39;49m\u001b[43mlinspac\u001b[49m\n",
      "File \u001b[0;32m/opt/anaconda3/envs/numpylearning/lib/python3.12/site-packages/numpy/__init__.py:414\u001b[0m, in \u001b[0;36m__getattr__\u001b[0;34m(attr)\u001b[0m\n\u001b[1;32m    411\u001b[0m     \u001b[38;5;28;01mimport\u001b[39;00m \u001b[38;5;21;01mnumpy\u001b[39;00m\u001b[38;5;21;01m.\u001b[39;00m\u001b[38;5;21;01mchar\u001b[39;00m \u001b[38;5;28;01mas\u001b[39;00m \u001b[38;5;21;01mchar\u001b[39;00m\n\u001b[1;32m    412\u001b[0m     \u001b[38;5;28;01mreturn\u001b[39;00m char\u001b[38;5;241m.\u001b[39mchararray\n\u001b[0;32m--> 414\u001b[0m \u001b[38;5;28;01mraise\u001b[39;00m \u001b[38;5;167;01mAttributeError\u001b[39;00m(\u001b[38;5;124m\"\u001b[39m\u001b[38;5;124mmodule \u001b[39m\u001b[38;5;132;01m{!r}\u001b[39;00m\u001b[38;5;124m has no attribute \u001b[39m\u001b[38;5;124m\"\u001b[39m\n\u001b[1;32m    415\u001b[0m                      \u001b[38;5;124m\"\u001b[39m\u001b[38;5;132;01m{!r}\u001b[39;00m\u001b[38;5;124m\"\u001b[39m\u001b[38;5;241m.\u001b[39mformat(\u001b[38;5;18m__name__\u001b[39m, attr))\n",
      "\u001b[0;31mAttributeError\u001b[0m: module 'numpy' has no attribute 'linspac'"
     ]
    }
   ],
   "source": [
    "x = np.linspac"
   ]
  }
 ],
 "metadata": {
  "kernelspec": {
   "display_name": "Python [conda env:numpylearning] *",
   "language": "python",
   "name": "conda-env-numpylearning-py"
  },
  "language_info": {
   "codemirror_mode": {
    "name": "ipython",
    "version": 3
   },
   "file_extension": ".py",
   "mimetype": "text/x-python",
   "name": "python",
   "nbconvert_exporter": "python",
   "pygments_lexer": "ipython3",
   "version": "3.12.7"
  },
  "toc": {
   "base_numbering": 1,
   "nav_menu": {},
   "number_sections": true,
   "sideBar": true,
   "skip_h1_title": false,
   "title_cell": "Table of Contents",
   "title_sidebar": "Contents",
   "toc_cell": false,
   "toc_position": {
    "height": "calc(100% - 180px)",
    "left": "10px",
    "top": "150px",
    "width": "187px"
   },
   "toc_section_display": true,
   "toc_window_display": false
  },
  "varInspector": {
   "cols": {
    "lenName": 16,
    "lenType": 16,
    "lenVar": 40
   },
   "kernels_config": {
    "python": {
     "delete_cmd_postfix": "",
     "delete_cmd_prefix": "del ",
     "library": "var_list.py",
     "varRefreshCmd": "print(var_dic_list())"
    },
    "r": {
     "delete_cmd_postfix": ") ",
     "delete_cmd_prefix": "rm(",
     "library": "var_list.r",
     "varRefreshCmd": "cat(var_dic_list()) "
    }
   },
   "types_to_exclude": [
    "module",
    "function",
    "builtin_function_or_method",
    "instance",
    "_Feature"
   ],
   "window_display": false
  }
 },
 "nbformat": 4,
 "nbformat_minor": 5
}
